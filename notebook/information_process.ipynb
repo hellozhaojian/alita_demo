{
 "cells": [
  {
   "attachments": {},
   "cell_type": "markdown",
   "metadata": {},
   "source": [
    "## 管理层信息抽取"
   ]
  },
  {
   "cell_type": "code",
   "execution_count": 1,
   "metadata": {},
   "outputs": [],
   "source": [
    "! cp /Users/alchemy_taotaox/Desktop/next/my_test/* ../corpus/"
   ]
  },
  {
   "cell_type": "code",
   "execution_count": 2,
   "metadata": {},
   "outputs": [
    {
     "name": "stdout",
     "output_type": "stream",
     "text": [
      "kg_expert.pdf     year_report.pdf   year_report_2.pdf\n"
     ]
    }
   ],
   "source": [
    "! ls ../corpus"
   ]
  },
  {
   "attachments": {},
   "cell_type": "markdown",
   "metadata": {},
   "source": [
    "## 算法基本思路\n",
    "1. 扫描pdf 获得页眉页脚\n",
    "2. 扫描pdf 获得最小和最大的x坐标\n",
    "    如果一个字符是最小的坐标，那么就和之前的行合并为一个段落\n",
    "    如果一个字符是最大的坐标，那么就和之前的\n",
    "2. 提取文档中的表格和字符串。调整"
   ]
  },
  {
   "cell_type": "code",
   "execution_count": 12,
   "metadata": {},
   "outputs": [],
   "source": [
    "from pdfplumber.pdf import PDF\n",
    "import re\n",
    "from collections import Counter\n",
    "\n",
    "def is_header(str, header):\n",
    "    if header is None:\n",
    "        return False\n",
    "    return str == header\n",
    "\n",
    "def is_foot(str, foot):\n",
    "    if foot is None:\n",
    "        return False\n",
    "    \n",
    "    s = re.sub(r'\\d+', '#num#', str)\n",
    "    return s == foot\n",
    "\n",
    "def get_foot_header(pdf:PDF, check_pages_num=20, threshold = 0.9):\n",
    "    head_counter = Counter()\n",
    "    foot_counter = Counter()\n",
    "    pages_num = len(pdf.pages)\n",
    "    if pages_num < check_pages_num:\n",
    "        check_pages_num = pages_num\n",
    "    for i in range(check_pages_num):\n",
    "        text_lines = pdf.pages[i].extract_words()\n",
    "        top_line = text_lines[0]['text']\n",
    "        bottom_line = text_lines[-1]['text']\n",
    "        bottom_line = re.sub(r'\\d+', '#num#', bottom_line)\n",
    "        head_counter.update([top_line])\n",
    "        foot_counter.update([bottom_line])\n",
    "        \n",
    "    most_common_head_word, count_head = head_counter.most_common(1)[0]\n",
    "    most_common_foot_word, count_foot = foot_counter.most_common(1)[0]\n",
    "    head, foot = None, None\n",
    "    if count_head *1./check_pages_num >= threshold:\n",
    "        head = most_common_head_word\n",
    "    if count_foot *1./check_pages_num >= threshold:\n",
    "        foot = most_common_foot_word\n",
    "    return head, foot\n",
    "    \n",
    "    "
   ]
  },
  {
   "cell_type": "code",
   "execution_count": 8,
   "metadata": {},
   "outputs": [
    {
     "name": "stdout",
     "output_type": "stream",
     "text": [
      "上海安诺其集团股份有限公司2022年年度报告全文\n",
      "截止2022年12月31日，公司已\n",
      "建成分散染料产能30,000吨，在\n",
      "分散染料 82,700吨 80.14% 52,700吨\n",
      "建产能52,700吨，具体可参见本\n",
      "报告第三节“七、投资状况分析”\n",
      "2021年7月，公司建成了活性染\n",
      "料产能14,750吨并开始试生产，\n",
      "活性染料 14,750吨 12.79% 0\n",
      "具体可参见本报告第三节“七、投\n",
      "资状况分析”。\n",
      "截止2022年12月31日，公司已\n",
      "建成染料中间体18,177吨，其中\n",
      "2,000吨中间体2-溴-4-硝基-6-氯\n",
      "中间体 88,000吨 50.96% 69,823吨\n",
      "苯于2021年7月建设完成并开始\n",
      "试生产。具体可参见本报告第三节\n",
      "“七、投资状况分析”。\n",
      "主要化工园区的产品种类情况\n",
      "主要化工园区 产品种类\n",
      "山东河口经济开发区 分散染料\n",
      "蓬莱市北沟化工新材料产业聚集区 染料中间体\n",
      "报告期内正在申请或者新增取得的环评批复情况\n",
      " 适用 不适用\n",
      "报告期内，30000吨染料中间体建设项目二期项目环评正在申请中。\n",
      "报告期内上市公司出现非正常停产情形\n",
      "□适用 不适用\n",
      "相关批复、许可、资质及有效期的情况\n",
      "适用 □不适用\n",
      "所属公司 名称 证书编号 有效期 备注\n",
      "2022年11月22日至\n",
      "东营安诺其纺 排污许可证 91370500679213060H001V --\n",
      "2027年11月21日\n",
      "织材料有限公\n",
      "2020年1月20日至\n",
      "司 安全标准化证书 无 --\n",
      "2023年1月20日\n",
      "2021年09月27日至\n",
      "排污许可证 913706840839718641001V --\n",
      "2026年09月26日\n",
      "2022年7月4日至\n",
      "烟台安诺其精 安全生产许可证 （鲁）WH安许证字（2022）060223号 --\n",
      "2024年4月8日\n",
      "细化工有限公\n",
      "2021年12月27日至\n",
      "司 安全生产标准化证书 （鲁）AQBWH II 202100202 --\n",
      "2024年12月\n",
      "2022年8月20日至\n",
      "危险化学品登记证 370610228 --\n",
      "2025年8月19日\n",
      "从事石油加工、石油贸易行业\n",
      "□是 否\n",
      "从事化肥行业\n",
      "□是 否\n",
      "从事农药行业\n",
      "□是 否\n",
      "从事氯碱、纯碱行业\n",
      "16\n"
     ]
    }
   ],
   "source": [
    "import pdfplumber\n",
    "\n",
    "filename = \"../corpus/year_report_2.pdf\"\n",
    "pdf = pdfplumber.open(filename)\n",
    "page = pdf.pages[10]\n",
    "page = pdf.pages[15]\n",
    "print(page.extract_text())"
   ]
  },
  {
   "cell_type": "code",
   "execution_count": 15,
   "metadata": {},
   "outputs": [
    {
     "name": "stdout",
     "output_type": "stream",
     "text": [
      "上海安诺其集团股份有限公司2022年年度报告全文\n",
      "#num#\n",
      "\n",
      "[['分散染料', '82,700吨', '80.14%', '52,700吨', '截止2022年12月31日，公司已\\n建成分散染料产能30,000吨，在\\n建产能52,700吨，具体可参见本\\n报告第三节“七、投资状况分析”'], ['活性染料', '14,750吨', '12.79%', '0', '2021年7月，公司建成了活性染\\n料产能14,750吨并开始试生产，\\n具体可参见本报告第三节“七、投\\n资状况分析”。'], ['中间体', '88,000吨', '50.96%', '69,823吨', '截止2022年12月31日，公司已\\n建成染料中间体18,177吨，其中\\n2,000吨中间体2-溴-4-硝基-6-氯\\n苯于2021年7月建设完成并开始\\n试生产。具体可参见本报告第三节\\n“七、投资状况分析”。']]\n",
      "主要化工园区的产品种类情况\n",
      "[['', '主要化工园区', '', '', '产品种类', ''], ['山东河口经济开发区', None, None, '分散染料', None, None], ['蓬莱市北沟化工新材料产业聚集区', None, None, '染料中间体', None, None]]\n",
      "报告期内正在申请或者新增取得的环评批复情况\n",
      " 适用 不适用\n",
      "报告期内，30000吨染料中间体建设项目二期项目环评正在申请中。\n",
      "报告期内上市公司出现非正常停产情形\n",
      "□适用 不适用\n",
      "相关批复、许可、资质及有效期的情况\n",
      "适用 □不适用\n",
      "[['所属公司', '名称', '证书编号', '有效期', '备注'], ['', '排污许可证', '91370500679213060H001V', '2022年11月22日至\\n2027年11月21日', '--'], ['东营安诺其纺', None, None, None, None], ['织材料有限公', None, None, None, None], [None, '安全标准化证书', '无', '2020年1月20日至\\n2023年1月20日', '--'], ['司', None, None, None, None], ['', None, None, None, None], ['', '排污许可证', '913706840839718641001V', '2021年09月27日至\\n2026年09月26日', '--'], [None, '安全生产许可证', '（鲁）WH安许证字（2022）060223号', '2022年7月4日至\\n2024年4月8日', '--'], ['烟台安诺其精', None, None, None, None], ['细化工有限公', None, None, None, None], [None, '安全生产标准化证书', '（鲁）AQBWH II 202100202', '2021年12月27日至\\n2024年12月', '--'], ['司', None, None, None, None], ['', None, None, None, None], [None, '危险化学品登记证', '370610228', '2022年8月20日至\\n2025年8月19日', '--']]\n",
      "从事石油加工、石油贸易行业\n",
      "□是 否\n",
      "从事化肥行业\n",
      "□是 否\n",
      "从事农药行业\n",
      "□是 否\n",
      "从事氯碱、纯碱行业\n",
      "\n"
     ]
    }
   ],
   "source": [
    "from operator import itemgetter\n",
    "\n",
    "def check_bboxes(word, table_bbox):\n",
    "    \"\"\"\n",
    "    Check whether word is inside a table bbox.\n",
    "    \"\"\"\n",
    "    l = word['x0'], word['top'], word['x1'], word['bottom']\n",
    "    r = table_bbox\n",
    "    return l[0] > r[0] and l[1] > r[1] and l[2] < r[2] and l[3] < r[3]\n",
    "\n",
    "head, foot = get_foot_header(pdf)\n",
    "print(head)\n",
    "print(foot)\n",
    "tables = page.find_tables()\n",
    "table_bboxes = [i.bbox for i in tables]\n",
    "tables = [{'table': i.extract(), 'top': i.bbox[1]} for i in tables]\n",
    "non_table_words = [word for word in page.extract_words() if not any(\n",
    "    [check_bboxes(word, table_bbox) for table_bbox in table_bboxes])]\n",
    "lines = []\n",
    "for cluster in pdfplumber.utils.cluster_objects(\n",
    "        non_table_words + tables, itemgetter('top'), tolerance=5):\n",
    "    if 'text' in cluster[0]:\n",
    "        lines.append(' '.join([i['text'] for i in cluster if not is_foot(i['text'], foot) and not is_header(i['text'], head)]))\n",
    "    elif 'table' in cluster[0]:\n",
    "        lines.append(cluster[0]['table'])\n",
    "# print(lines)\n",
    "\n",
    "for item in lines:\n",
    "    print(item)"
   ]
  },
  {
   "cell_type": "code",
   "execution_count": 14,
   "metadata": {},
   "outputs": [
    {
     "name": "stdout",
     "output_type": "stream",
     "text": [
      "上海安诺其集团股份有限公司2022年年度报告全文\n",
      "#num#\n"
     ]
    }
   ],
   "source": [
    "head, foot = get_foot_header(pdf)\n",
    "print(head)\n",
    "print(foot)"
   ]
  }
 ],
 "metadata": {
  "kernelspec": {
   "display_name": ".venv",
   "language": "python",
   "name": "python3"
  },
  "language_info": {
   "codemirror_mode": {
    "name": "ipython",
    "version": 3
   },
   "file_extension": ".py",
   "mimetype": "text/x-python",
   "name": "python",
   "nbconvert_exporter": "python",
   "pygments_lexer": "ipython3",
   "version": "3.9.13"
  },
  "orig_nbformat": 4
 },
 "nbformat": 4,
 "nbformat_minor": 2
}
